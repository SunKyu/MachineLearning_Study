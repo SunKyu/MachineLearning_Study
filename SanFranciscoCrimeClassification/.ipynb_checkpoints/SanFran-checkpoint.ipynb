{
 "cells": [
  {
   "cell_type": "markdown",
   "metadata": {},
   "source": [
    "# Competition Sbuject\n",
    "\n",
    "\n",
    "## Detail contents\n",
    "\n"
   ]
  },
  {
   "cell_type": "markdown",
   "metadata": {},
   "source": [
    "# Load Data"
   ]
  },
  {
   "cell_type": "code",
   "execution_count": null,
   "metadata": {
    "collapsed": true
   },
   "outputs": [],
   "source": [
    "import numpy as np\n",
    "import pandas as pd\n",
    "\n",
    "data = pd.read_csv(\"filename.csv\")\n",
    "#data = data.reindex(np.random.permutation(data.index)) \n",
    "data"
   ]
  },
  {
   "cell_type": "markdown",
   "metadata": {},
   "source": [
    "# Feature Engineering"
   ]
  },
  {
   "cell_type": "code",
   "execution_count": null,
   "metadata": {
    "collapsed": true
   },
   "outputs": [],
   "source": [
    "preprocess_list = []"
   ]
  },
  {
   "cell_type": "markdown",
   "metadata": {},
   "source": [
    "## Encode Label"
   ]
  },
  {
   "cell_type": "code",
   "execution_count": null,
   "metadata": {
    "collapsed": true
   },
   "outputs": [],
   "source": [
    "from sklearn.preprocessing import LabelEncoder\n",
    "\n",
    "label_encoder = LabelEncoder()\n",
    "\n",
    "#add columns for encoded label and then if we don't need original column\n",
    "#that time we will can drop the original columns\n",
    "\n",
    "data.head()"
   ]
  },
  {
   "cell_type": "markdown",
   "metadata": {},
   "source": [
    "### 필요하면 여러 feature 들을 인코드한다."
   ]
  },
  {
   "cell_type": "code",
   "execution_count": null,
   "metadata": {
    "collapsed": true
   },
   "outputs": [],
   "source": []
  },
  {
   "cell_type": "markdown",
   "metadata": {},
   "source": [
    "## Scale/Normailze Features"
   ]
  },
  {
   "cell_type": "code",
   "execution_count": null,
   "metadata": {
    "collapsed": true
   },
   "outputs": [],
   "source": [
    "#필요하면 여러개 feature들 노멀라이즈"
   ]
  },
  {
   "cell_type": "markdown",
   "metadata": {},
   "source": [
    "# Cross validatae by multi-class logarithmic loss\n"
   ]
  },
  {
   "cell_type": "code",
   "execution_count": null,
   "metadata": {
    "collapsed": true
   },
   "outputs": [],
   "source": [
    "from sklearn.cross_validation import KFold\n",
    "from sklearn.metrics import log_loss\n",
    "\n",
    "def multiclass_logloss_score(model, features, labels, num_folds = 5):\n",
    "    kfold = KFold(len(features), num_folds)\n",
    "    \n",
    "    total_score = 0.0\n",
    "    \n",
    "    for train_index, test_index in kfolds:\n",
    "        train_features = features.iloc[train_index]\n",
    "        test_features = features.iloc[test_index]\n",
    "        train_labels = labels.iloc[train_index]\n",
    "        test_labels = labels.iloc[test_index]\n",
    "        \n",
    "        model.fit(train_features, train_labels)\n",
    "        prediction = model.predict_proba(test_features)\n",
    "        \n",
    "        score = log_loss(test_labels, prediction)\n",
    "        total_score += score\n",
    "        \n",
    "    total_score = total_score / num_folds\n",
    "    \n",
    "    return total_score\n",
    "        "
   ]
  },
  {
   "cell_type": "markdown",
   "metadata": {},
   "source": [
    "# Prediction"
   ]
  },
  {
   "cell_type": "markdown",
   "metadata": {},
   "source": [
    "## Predict "
   ]
  },
  {
   "cell_type": "code",
   "execution_count": null,
   "metadata": {
    "collapsed": true
   },
   "outputs": [],
   "source": [
    "from sklearn.naive_bayes import GaussianNB, MultinomialNB, BernoulliNB\n",
    "\n",
    "# feature_names = [\"scale_normalized_X\", \"scale_normalized_Y\", \"dayofweek_encoded\", \"year\", \"month\", \"day\", \"hour\", \"minute\", \"second\", \"pd_district_encoded\"]\n",
    "feature_names = [\"\"]\n",
    "#배열로 넘김\n",
    "label_name = \"\"\n",
    "#컬럼 넘김\n",
    "\n",
    "gaussian_score = multiclass_logloss_score(GaussianNB(), data[feature_names], data[label_name])\n",
    "multinomial_score = multiclass_logloss_score(MultinomialNB(), data[feature_names], data[label_name])\n",
    "bernoulli_score = multiclass_logloss_score(BernoulliNB(), data[feature_names], data[label_name])\n",
    "#model 들 넘김\n",
    "print(\"GaussianNB = %.5f, MultinomialNB = %.5f, BernoulliNB = %.5f\" % (gaussian_score, multinomial_score, bernoulli_score))"
   ]
  },
  {
   "cell_type": "markdown",
   "metadata": {},
   "source": [
    "# Submit"
   ]
  },
  {
   "cell_type": "code",
   "execution_count": null,
   "metadata": {
    "collapsed": true
   },
   "outputs": [],
   "source": [
    "train = pd.read_csv(\"train.csv\")\n",
    "test = pd.read_csv(\"test.csv\")\n",
    "\n",
    "for preprocess_function in preprocess_list:\n",
    "    preprocess_function(train)\n",
    "    preprocess_function(test)\n",
    "    \n",
    "feature_names = [\"\"]\n",
    "\n",
    "label_name = \"label\"\n",
    "\n",
    "model = BernoulliNB()\n",
    "model.fit(train[feature_names], train[label_name])\n",
    "prediction = model.predict_proba(test[feature_names])\n",
    "\n",
    "label_columns = sorted(train[label_name].unique())\n",
    "\n",
    "submit = pd.DataFrame(prediction)\n",
    "submit.index.names = [\"id\"]\n",
    "submit.columns = label_columns\n",
    "\n",
    "submit"
   ]
  },
  {
   "cell_type": "code",
   "execution_count": null,
   "metadata": {
    "collapsed": true
   },
   "outputs": [],
   "source": [
    "from time import strftime, localtime\n",
    "\n",
    "current_time = strftime(\"%Y.%m.%d %H.%M.%S\", localtime())\n",
    "\n",
    "submit.to_csv(\"submit/%s.csv\" % current_time)"
   ]
  }
 ],
 "metadata": {
  "kernelspec": {
   "display_name": "Python 2",
   "language": "python",
   "name": "python2"
  },
  "language_info": {
   "codemirror_mode": {
    "name": "ipython",
    "version": 2
   },
   "file_extension": ".py",
   "mimetype": "text/x-python",
   "name": "python",
   "nbconvert_exporter": "python",
   "pygments_lexer": "ipython2",
   "version": "2.7.10"
  }
 },
 "nbformat": 4,
 "nbformat_minor": 0
}
