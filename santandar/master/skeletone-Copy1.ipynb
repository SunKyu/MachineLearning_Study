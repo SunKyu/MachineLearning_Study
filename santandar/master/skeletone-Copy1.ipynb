{
 "cells": [
  {
   "cell_type": "markdown",
   "metadata": {},
   "source": [
    "# Competition Subject\n",
    "\n",
    "\n",
    "## Detail contents\n",
    "\n"
   ]
  },
  {
   "cell_type": "markdown",
   "metadata": {},
   "source": [
    "# Load Data"
   ]
  },
  {
   "cell_type": "code",
   "execution_count": 1,
   "metadata": {
    "collapsed": false,
    "scrolled": true
   },
   "outputs": [],
   "source": [
    "import numpy as np\n",
    "import pandas as pd\n",
    "\n",
    "data = pd.read_csv(\"../data/train.csv\")\n",
    "test = pd.read_csv(\"../data/test.csv\")\n",
    "feature = set(data.columns)\n",
    "feat2 = []\n",
    "feature.discard(\"TARGET\")\n",
    "feature.discard(\"ID\")\n"
   ]
  },
  {
   "cell_type": "markdown",
   "metadata": {},
   "source": [
    "# Feature Engineering"
   ]
  },
  {
   "cell_type": "code",
   "execution_count": 2,
   "metadata": {
    "collapsed": true
   },
   "outputs": [],
   "source": [
    "preprocess_list = []"
   ]
  },
  {
   "cell_type": "markdown",
   "metadata": {},
   "source": [
    "## remove unique value Feature and if the values of test's feature is not unique, and don't discard\n"
   ]
  },
  {
   "cell_type": "code",
   "execution_count": 3,
   "metadata": {
    "collapsed": false
   },
   "outputs": [],
   "source": [
    "def removeOneValueFeature(data):\n",
    "    for i in data.columns:\n",
    "        data[i]\n",
    "        if (len(data[i].unique()) == 1 and len(test[i].unique()) == 1):\n",
    "            feature.discard(i)\n",
    "            \n",
    "            \n",
    "removeOneValueFeature(data)\n",
    "preprocess_list.append(removeOneValueFeature)"
   ]
  },
  {
   "cell_type": "markdown",
   "metadata": {},
   "source": [
    "### 필요하면 여러 feature 들을 인코드한다."
   ]
  },
  {
   "cell_type": "code",
   "execution_count": 40,
   "metadata": {
    "collapsed": false
   },
   "outputs": [
    {
     "name": "stdout",
     "output_type": "stream",
     "text": [
      "335\n",
      "335\n",
      "[  0   2   7   9  11  14  15  16  17  22  24  25  31  32  33  36  40  43\n",
      "  50  52  54  62  65  66  69  70  71  74  77  78  79  80  81  82  83  84\n",
      "  86  87  89  91  96 101 106 109 111 112 115 118 123 124 125 128 129 130\n",
      " 131 132 137 140 143 148 151 153 154 155 156 162 164 165 166 170 171 172\n",
      " 173 174 175 178 180 181 184 185 189 190 192 193 195 197 198 205 208 209\n",
      " 210 211 212 214 217 225 230 231 234 237 238 240 241 252 254 257 258 261\n",
      " 263 265 270 271 272 273 283 284 285 286 290 291 295 298 303 307 309 310\n",
      " 311 317 318 319 326 327 328 329 330 333]\n",
      "136\n"
     ]
    }
   ],
   "source": [
    "from sklearn.svm import LinearSVC\n",
    "\n",
    "\n",
    "from sklearn.datasets import load_iris\n",
    "from sklearn.feature_selection import SelectFromModel\n",
    "\n",
    "feat = pd.Series(list(feature))\n",
    "\n",
    "fin_data = data\n",
    "\n",
    "def feature_selection(data):\n",
    "    lsvc = LinearSVC(C=0.01, penalty=\"l1\", dual=False).fit(data[feat], data[\"TARGET\"])\n",
    "    model = SelectFromModel(lsvc, prefit=True)\n",
    "    new_feature = model.transform(data[feat])\n",
    "    print len(lsvc.coef_[0])\n",
    "    feat2 = []\n",
    "    #print (lsvc.coef_[0])\n",
    "    print (np.flatnonzero(lsvc.coef_))\n",
    "    for i in np.flatnonzero(lsvc.coef_):\n",
    "        feat2.append(feat[i])\n",
    "            \n",
    "    print len(feat2)\n",
    "    \n",
    "    return feat2\n",
    "    \n",
    "print len(feature)\n",
    "feat2 = feature_selection(data)"
   ]
  },
  {
   "cell_type": "markdown",
   "metadata": {
    "collapsed": true
   },
   "source": [
    "# Cross validatae by ROCAUC\n",
    "\n"
   ]
  },
  {
   "cell_type": "code",
   "execution_count": 33,
   "metadata": {
    "collapsed": false
   },
   "outputs": [],
   "source": [
    "\n",
    "\n",
    "from sklearn.cross_validation import KFold\n",
    "from sklearn import datasets\n",
    "from sklearn.metrics import roc_auc_score\n",
    "\n",
    "\n",
    "\n",
    "def rocauc_score(model, features, labels, num_folds = 5):\n",
    "    kfolds = KFold(len(features), num_folds)\n",
    "    \n",
    "    total_score = 0.0\n",
    "    \n",
    "    for train_index, test_index in kfolds:\n",
    "        train_features = features.iloc[train_index]\n",
    "        test_features = features.iloc[test_index]\n",
    "        train_labels = labels[train_index]\n",
    "        test_labels = labels[test_index]\n",
    "        \n",
    "        model.fit(train_features, train_labels)\n",
    "        prediction = model.predict_proba(test_features)\n",
    "        \n",
    "        \n",
    "       \n",
    "        nd = test_labels.get_values()\n",
    "        pos_prediction = [x[1] for x in prediction]\n",
    "        score = roc_auc_score(nd, pos_prediction)\n",
    "        total_score = total_score + score\n",
    "        \n",
    "    total_score = total_score / num_folds\n",
    "    \n",
    "    return total_score\n",
    "        \n",
    "        \n",
    "        "
   ]
  },
  {
   "cell_type": "markdown",
   "metadata": {},
   "source": [
    "# Prediction"
   ]
  },
  {
   "cell_type": "markdown",
   "metadata": {},
   "source": [
    "## Predict "
   ]
  },
  {
   "cell_type": "code",
   "execution_count": 34,
   "metadata": {
    "collapsed": false
   },
   "outputs": [],
   "source": [
    "#from sklearn.naive_bayes import GaussianNB, MultinomialNB, BernoulliNB\n",
    "from sklearn.ensemble import RandomForestClassifier\n",
    "from sklearn.linear_model import LogisticRegression\n",
    "from sklearn import svm\n",
    "import time\n",
    "\n",
    "\n",
    "feature_names = pd.Series(list(feature))\n",
    "feature_names2 = data.columns[1:370]\n",
    "#배열로 넘김\n",
    "label_name = \"TARGET\"\n",
    "#컬럼 넘김\n",
    "befo_time = time.time()\n",
    "before = rocauc_score(RandomForestClassifier(n_estimators=200, n_jobs= -1), data[feature_names2], data[label_name])\n",
    "befo_time = time.time() - befo_time\n",
    "\n",
    "after_time = time.time()\n",
    "after = rocauc_score(RandomForestClassifier(n_estimators=200, n_jobs= -1), data[feature_names], data[label_name])\n",
    "after_time = time.time() - after_time\n"
   ]
  },
  {
   "cell_type": "code",
   "execution_count": 35,
   "metadata": {
    "collapsed": false
   },
   "outputs": [
    {
     "name": "stdout",
     "output_type": "stream",
     "text": [
      "before = 0.76073\n",
      "54.8745250702\n",
      "after = 0.76083\n",
      "49.622177124\n"
     ]
    }
   ],
   "source": [
    "print(\"before = %.5f\" % (before))\n",
    "print befo_time\n",
    "print (\"after = %.5f\" % (after) )\n",
    "print after_time\n",
    "\n"
   ]
  },
  {
   "cell_type": "markdown",
   "metadata": {},
   "source": [
    "# Submit"
   ]
  },
  {
   "cell_type": "code",
   "execution_count": 36,
   "metadata": {
    "collapsed": false,
    "scrolled": true
   },
   "outputs": [],
   "source": [
    "train = pd.read_csv(\"../data/train.csv\")\n",
    "test = pd.read_csv(\"../data/test.csv\")\n",
    "feature = set(data.columns)\n",
    "\n",
    "feature.discard(\"TARGET\")\n",
    "feature.discard(\"ID\")\n",
    "label_name = \"TARGET\"\n",
    "\n",
    "for preprocess_function in preprocess_list:\n",
    "    preprocess_function(train)\n",
    "    \n",
    "\n",
    "\n",
    "\n"
   ]
  },
  {
   "cell_type": "markdown",
   "metadata": {},
   "source": [
    "## Train"
   ]
  },
  {
   "cell_type": "code",
   "execution_count": 45,
   "metadata": {
    "collapsed": false
   },
   "outputs": [
    {
     "name": "stdout",
     "output_type": "stream",
     "text": [
      "136\n",
      "('endt time ', 245.7592179775238)\n"
     ]
    }
   ],
   "source": [
    "from sklearn.ensemble import RandomForestClassifier\n",
    "from sklearn.linear_model import LogisticRegression\n",
    "from sklearn import svm\n",
    "import time\n",
    "\n",
    "\n",
    "feature_names = pd.Series(feat2)\n",
    "feature_names2 = train.columns[1:370]\n",
    "\n",
    "print len(feature_names)\n",
    "label_name = \"TARGET\"\n",
    "\n",
    "#model = RandomForestClassifier(n_estimators = 200, n_jobs= -1)\n",
    "start = time.time()\n",
    "model = RandomForestClassifier(n_estimators=3500, n_jobs= -1)\n",
    "#model = svm.SVC(probability = True)\n",
    "model.fit(train[feature_names2], train[label_name])\n",
    "prediction = model.predict_proba(test[feature_names2])\n",
    "end = time.time() - start\n",
    "print (\"endt time \", end)\n"
   ]
  },
  {
   "cell_type": "markdown",
   "metadata": {},
   "source": [
    "## Make submit"
   ]
  },
  {
   "cell_type": "code",
   "execution_count": 46,
   "metadata": {
    "collapsed": false
   },
   "outputs": [
    {
     "data": {
      "text/html": [
       "<div>\n",
       "<table border=\"1\" class=\"dataframe\">\n",
       "  <thead>\n",
       "    <tr style=\"text-align: right;\">\n",
       "      <th></th>\n",
       "      <th>TARGET</th>\n",
       "    </tr>\n",
       "    <tr>\n",
       "      <th>ID</th>\n",
       "      <th></th>\n",
       "    </tr>\n",
       "  </thead>\n",
       "  <tbody>\n",
       "    <tr>\n",
       "      <th>2</th>\n",
       "      <td>0.148857</td>\n",
       "    </tr>\n",
       "    <tr>\n",
       "      <th>5</th>\n",
       "      <td>0.011714</td>\n",
       "    </tr>\n",
       "    <tr>\n",
       "      <th>6</th>\n",
       "      <td>0.000571</td>\n",
       "    </tr>\n",
       "    <tr>\n",
       "      <th>7</th>\n",
       "      <td>0.000000</td>\n",
       "    </tr>\n",
       "    <tr>\n",
       "      <th>9</th>\n",
       "      <td>0.000000</td>\n",
       "    </tr>\n",
       "    <tr>\n",
       "      <th>11</th>\n",
       "      <td>0.088000</td>\n",
       "    </tr>\n",
       "    <tr>\n",
       "      <th>12</th>\n",
       "      <td>0.066000</td>\n",
       "    </tr>\n",
       "    <tr>\n",
       "      <th>15</th>\n",
       "      <td>0.015143</td>\n",
       "    </tr>\n",
       "    <tr>\n",
       "      <th>16</th>\n",
       "      <td>0.016857</td>\n",
       "    </tr>\n",
       "    <tr>\n",
       "      <th>17</th>\n",
       "      <td>0.005714</td>\n",
       "    </tr>\n",
       "    <tr>\n",
       "      <th>19</th>\n",
       "      <td>0.000857</td>\n",
       "    </tr>\n",
       "    <tr>\n",
       "      <th>21</th>\n",
       "      <td>0.000000</td>\n",
       "    </tr>\n",
       "    <tr>\n",
       "      <th>22</th>\n",
       "      <td>0.016571</td>\n",
       "    </tr>\n",
       "    <tr>\n",
       "      <th>24</th>\n",
       "      <td>0.000286</td>\n",
       "    </tr>\n",
       "    <tr>\n",
       "      <th>27</th>\n",
       "      <td>0.006000</td>\n",
       "    </tr>\n",
       "    <tr>\n",
       "      <th>28</th>\n",
       "      <td>0.065714</td>\n",
       "    </tr>\n",
       "    <tr>\n",
       "      <th>30</th>\n",
       "      <td>0.115429</td>\n",
       "    </tr>\n",
       "    <tr>\n",
       "      <th>33</th>\n",
       "      <td>0.000000</td>\n",
       "    </tr>\n",
       "    <tr>\n",
       "      <th>35</th>\n",
       "      <td>0.005646</td>\n",
       "    </tr>\n",
       "    <tr>\n",
       "      <th>37</th>\n",
       "      <td>0.026571</td>\n",
       "    </tr>\n",
       "    <tr>\n",
       "      <th>38</th>\n",
       "      <td>0.000571</td>\n",
       "    </tr>\n",
       "    <tr>\n",
       "      <th>40</th>\n",
       "      <td>0.085952</td>\n",
       "    </tr>\n",
       "    <tr>\n",
       "      <th>41</th>\n",
       "      <td>0.013714</td>\n",
       "    </tr>\n",
       "    <tr>\n",
       "      <th>44</th>\n",
       "      <td>0.003714</td>\n",
       "    </tr>\n",
       "    <tr>\n",
       "      <th>46</th>\n",
       "      <td>0.049429</td>\n",
       "    </tr>\n",
       "    <tr>\n",
       "      <th>47</th>\n",
       "      <td>0.004857</td>\n",
       "    </tr>\n",
       "    <tr>\n",
       "      <th>48</th>\n",
       "      <td>0.000000</td>\n",
       "    </tr>\n",
       "    <tr>\n",
       "      <th>50</th>\n",
       "      <td>0.000000</td>\n",
       "    </tr>\n",
       "    <tr>\n",
       "      <th>52</th>\n",
       "      <td>0.197341</td>\n",
       "    </tr>\n",
       "    <tr>\n",
       "      <th>53</th>\n",
       "      <td>0.000000</td>\n",
       "    </tr>\n",
       "    <tr>\n",
       "      <th>...</th>\n",
       "      <td>...</td>\n",
       "    </tr>\n",
       "    <tr>\n",
       "      <th>151772</th>\n",
       "      <td>0.003429</td>\n",
       "    </tr>\n",
       "    <tr>\n",
       "      <th>151773</th>\n",
       "      <td>0.118286</td>\n",
       "    </tr>\n",
       "    <tr>\n",
       "      <th>151776</th>\n",
       "      <td>0.006571</td>\n",
       "    </tr>\n",
       "    <tr>\n",
       "      <th>151777</th>\n",
       "      <td>0.003429</td>\n",
       "    </tr>\n",
       "    <tr>\n",
       "      <th>151780</th>\n",
       "      <td>0.001429</td>\n",
       "    </tr>\n",
       "    <tr>\n",
       "      <th>151781</th>\n",
       "      <td>0.000286</td>\n",
       "    </tr>\n",
       "    <tr>\n",
       "      <th>151782</th>\n",
       "      <td>0.002860</td>\n",
       "    </tr>\n",
       "    <tr>\n",
       "      <th>151784</th>\n",
       "      <td>0.623005</td>\n",
       "    </tr>\n",
       "    <tr>\n",
       "      <th>151785</th>\n",
       "      <td>0.000000</td>\n",
       "    </tr>\n",
       "    <tr>\n",
       "      <th>151786</th>\n",
       "      <td>0.116286</td>\n",
       "    </tr>\n",
       "    <tr>\n",
       "      <th>151788</th>\n",
       "      <td>0.000000</td>\n",
       "    </tr>\n",
       "    <tr>\n",
       "      <th>151789</th>\n",
       "      <td>0.006857</td>\n",
       "    </tr>\n",
       "    <tr>\n",
       "      <th>151790</th>\n",
       "      <td>0.004414</td>\n",
       "    </tr>\n",
       "    <tr>\n",
       "      <th>151791</th>\n",
       "      <td>0.000000</td>\n",
       "    </tr>\n",
       "    <tr>\n",
       "      <th>151803</th>\n",
       "      <td>0.219429</td>\n",
       "    </tr>\n",
       "    <tr>\n",
       "      <th>151812</th>\n",
       "      <td>0.024571</td>\n",
       "    </tr>\n",
       "    <tr>\n",
       "      <th>151814</th>\n",
       "      <td>0.000000</td>\n",
       "    </tr>\n",
       "    <tr>\n",
       "      <th>151817</th>\n",
       "      <td>0.032286</td>\n",
       "    </tr>\n",
       "    <tr>\n",
       "      <th>151819</th>\n",
       "      <td>0.068000</td>\n",
       "    </tr>\n",
       "    <tr>\n",
       "      <th>151822</th>\n",
       "      <td>0.000000</td>\n",
       "    </tr>\n",
       "    <tr>\n",
       "      <th>151823</th>\n",
       "      <td>0.065429</td>\n",
       "    </tr>\n",
       "    <tr>\n",
       "      <th>151824</th>\n",
       "      <td>0.092571</td>\n",
       "    </tr>\n",
       "    <tr>\n",
       "      <th>151826</th>\n",
       "      <td>0.054857</td>\n",
       "    </tr>\n",
       "    <tr>\n",
       "      <th>151827</th>\n",
       "      <td>0.013714</td>\n",
       "    </tr>\n",
       "    <tr>\n",
       "      <th>151828</th>\n",
       "      <td>0.000571</td>\n",
       "    </tr>\n",
       "    <tr>\n",
       "      <th>151831</th>\n",
       "      <td>0.556286</td>\n",
       "    </tr>\n",
       "    <tr>\n",
       "      <th>151832</th>\n",
       "      <td>0.122357</td>\n",
       "    </tr>\n",
       "    <tr>\n",
       "      <th>151833</th>\n",
       "      <td>0.003143</td>\n",
       "    </tr>\n",
       "    <tr>\n",
       "      <th>151834</th>\n",
       "      <td>0.040238</td>\n",
       "    </tr>\n",
       "    <tr>\n",
       "      <th>151837</th>\n",
       "      <td>0.000000</td>\n",
       "    </tr>\n",
       "  </tbody>\n",
       "</table>\n",
       "<p>75818 rows × 1 columns</p>\n",
       "</div>"
      ],
      "text/plain": [
       "          TARGET\n",
       "ID              \n",
       "2       0.148857\n",
       "5       0.011714\n",
       "6       0.000571\n",
       "7       0.000000\n",
       "9       0.000000\n",
       "11      0.088000\n",
       "12      0.066000\n",
       "15      0.015143\n",
       "16      0.016857\n",
       "17      0.005714\n",
       "19      0.000857\n",
       "21      0.000000\n",
       "22      0.016571\n",
       "24      0.000286\n",
       "27      0.006000\n",
       "28      0.065714\n",
       "30      0.115429\n",
       "33      0.000000\n",
       "35      0.005646\n",
       "37      0.026571\n",
       "38      0.000571\n",
       "40      0.085952\n",
       "41      0.013714\n",
       "44      0.003714\n",
       "46      0.049429\n",
       "47      0.004857\n",
       "48      0.000000\n",
       "50      0.000000\n",
       "52      0.197341\n",
       "53      0.000000\n",
       "...          ...\n",
       "151772  0.003429\n",
       "151773  0.118286\n",
       "151776  0.006571\n",
       "151777  0.003429\n",
       "151780  0.001429\n",
       "151781  0.000286\n",
       "151782  0.002860\n",
       "151784  0.623005\n",
       "151785  0.000000\n",
       "151786  0.116286\n",
       "151788  0.000000\n",
       "151789  0.006857\n",
       "151790  0.004414\n",
       "151791  0.000000\n",
       "151803  0.219429\n",
       "151812  0.024571\n",
       "151814  0.000000\n",
       "151817  0.032286\n",
       "151819  0.068000\n",
       "151822  0.000000\n",
       "151823  0.065429\n",
       "151824  0.092571\n",
       "151826  0.054857\n",
       "151827  0.013714\n",
       "151828  0.000571\n",
       "151831  0.556286\n",
       "151832  0.122357\n",
       "151833  0.003143\n",
       "151834  0.040238\n",
       "151837  0.000000\n",
       "\n",
       "[75818 rows x 1 columns]"
      ]
     },
     "execution_count": 46,
     "metadata": {},
     "output_type": "execute_result"
    }
   ],
   "source": [
    "p = [x[1] for x in prediction]\n",
    "\n",
    "\n",
    "submit = pd.DataFrame(data = {'TARGET' : p}, index = test[\"ID\"] )\n",
    "submit.index.names = [\"ID\"]\n",
    "#submit.columns = label_columns\n",
    "\n",
    "submit"
   ]
  },
  {
   "cell_type": "code",
   "execution_count": 47,
   "metadata": {
    "collapsed": false
   },
   "outputs": [],
   "source": [
    "from time import strftime, localtime\n",
    "\n",
    "current_time = strftime(\"%Y.%m.%d %H.%M.%S\", localtime())\n",
    "\n",
    "submit.to_csv(\"../submit/%s.csv\" % current_time)"
   ]
  },
  {
   "cell_type": "code",
   "execution_count": null,
   "metadata": {
    "collapsed": true
   },
   "outputs": [],
   "source": []
  },
  {
   "cell_type": "code",
   "execution_count": null,
   "metadata": {
    "collapsed": true
   },
   "outputs": [],
   "source": []
  }
 ],
 "metadata": {
  "kernelspec": {
   "display_name": "Python 2",
   "language": "python",
   "name": "python2"
  },
  "language_info": {
   "codemirror_mode": {
    "name": "ipython",
    "version": 2
   },
   "file_extension": ".py",
   "mimetype": "text/x-python",
   "name": "python",
   "nbconvert_exporter": "python",
   "pygments_lexer": "ipython2",
   "version": "2.7.10"
  }
 },
 "nbformat": 4,
 "nbformat_minor": 0
}
