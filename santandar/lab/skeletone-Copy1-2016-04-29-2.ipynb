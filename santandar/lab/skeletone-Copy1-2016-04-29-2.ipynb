{
 "cells": [
  {
   "cell_type": "markdown",
   "metadata": {},
   "source": [
    "# Which customers are happy customers?\n",
    "\n",
    "\n",
    "From frontline support teams to C-suites, customer satisfaction is a key measure of success. Unhappy customers don't stick around. What's more, unhappy customers rarely voice their dissatisfaction before leaving.\n",
    "\n",
    "Santander Bank is asking Kagglers to help them identify dissatisfied customers early in their relationship. Doing so would allow Santander to take proactive steps to improve a customer's happiness before it's too late.\n",
    "\n",
    "In this competition, you'll work with hundreds of anonymized features to predict if a customer is satisfied or dissatisfied with their banking experience.\n",
    "\n",
    "\n",
    "\n",
    "![img](https://kaggle2.blob.core.windows.net/competitions/kaggle/4986/media/santander_custsat_red.png)\n"
   ]
  },
  {
   "cell_type": "markdown",
   "metadata": {},
   "source": [
    "# Load Data"
   ]
  },
  {
   "cell_type": "code",
   "execution_count": 17,
   "metadata": {
    "collapsed": false,
    "scrolled": true
   },
   "outputs": [
    {
     "name": "stdout",
     "output_type": "stream",
     "text": [
      "371\n"
     ]
    }
   ],
   "source": [
    "import numpy as np\n",
    "import pandas as pd\n",
    "\n",
    "data = pd.read_csv(\"../data/train.csv\")\n",
    "feature = set(data.columns)\n",
    "print len(feature)\n",
    "\n",
    "feature.discard(\"TARGET\")\n",
    "feature.discard(\"ID\")"
   ]
  },
  {
   "cell_type": "markdown",
   "metadata": {},
   "source": [
    "## exercise contents\n",
    "remove unique value Feature"
   ]
  },
  {
   "cell_type": "code",
   "execution_count": 18,
   "metadata": {
    "collapsed": false
   },
   "outputs": [
    {
     "name": "stdout",
     "output_type": "stream",
     "text": [
      "335\n"
     ]
    }
   ],
   "source": [
    "def removeOneValueFeature() : \n",
    "    for i in data.columns:\n",
    "        data[i]\n",
    "        #print len(data[i].unique())\n",
    "        if (len(data[i].unique()) == 1):\n",
    "            feature.discard(i)\n",
    "            \n",
    "        \n",
    "        \n",
    "        \n",
    "removeOneValueFeature()\n",
    "print len(feature)\n",
    "    "
   ]
  },
  {
   "cell_type": "markdown",
   "metadata": {},
   "source": [
    "# Cross validatae by ROCAUC\n"
   ]
  },
  {
   "cell_type": "code",
   "execution_count": 19,
   "metadata": {
    "collapsed": false
   },
   "outputs": [],
   "source": [
    "from sklearn.cross_validation import KFold\n",
    "from sklearn import datasets\n",
    "from sklearn.metrics import roc_auc_score\n",
    "\n",
    "\n",
    "def rocauc_score(model, features, labels, num_folds = 5):\n",
    "    kfolds = KFold(len(features), num_folds)\n",
    "    \n",
    "    total_score = 0.0\n",
    "    \n",
    "    for train_index, test_index in kfolds:\n",
    "        train_features = features.iloc[train_index]\n",
    "        test_features = features.iloc[test_index]\n",
    "        train_labels = labels[train_index]\n",
    "        test_labels = labels[test_index]\n",
    "        \n",
    "        model.fit(train_features, train_labels)\n",
    "        prediction = model.predict_proba(test_features)\n",
    "        \n",
    "        nd = test_labels.get_values()\n",
    "        pos_prediction = [x[1] for x in prediction]\n",
    "        score = roc_auc_score(nd, pos_prediction)\n",
    "        total_score = total_score + score\n",
    "        \n",
    "    total_score = total_score / num_folds\n",
    "    \n",
    "    return total_score   "
   ]
  },
  {
   "cell_type": "markdown",
   "metadata": {},
   "source": [
    "# Prediction"
   ]
  },
  {
   "cell_type": "markdown",
   "metadata": {},
   "source": [
    "## Predict "
   ]
  },
  {
   "cell_type": "code",
   "execution_count": 33,
   "metadata": {
    "collapsed": false
   },
   "outputs": [],
   "source": [
    "#from sklearn.naive_bayes import GaussianNB, MultinomialNB, BernoulliNB\n",
    "from sklearn.ensemble import RandomForestClassifier\n",
    "from sklearn.linear_model import LogisticRegression\n",
    "from sklearn import svm\n",
    "\n",
    "feature_names = pd.Series(list(feature))\n",
    "feature_names2 = data.columns[1:370]\n",
    "#배열로 넘김\n",
    "label_name = \"TARGET\"\n",
    "#컬럼 넘김\n",
    "before = rocauc_score(RandomForestClassifier(n_estimators=100, n_jobs= -1), data[feature_names2], data[label_name])\n",
    "after = rocauc_score(RandomForestClassifier(n_estimators=100, n_jobs= -1), data[feature_names], data[label_name])\n",
    "\n",
    "#svmsvc_score = rocauc_score(svm.SVC(), data[feature_names], data[label_name])\n",
    "#Logistic_score = rocauc_score(LogisticRegression(n_jobs =-1), data[feature_names], data[label_name])"
   ]
  },
  {
   "cell_type": "markdown",
   "metadata": {},
   "source": [
    "## Print score"
   ]
  },
  {
   "cell_type": "code",
   "execution_count": 32,
   "metadata": {
    "collapsed": false
   },
   "outputs": [
    {
     "name": "stdout",
     "output_type": "stream",
     "text": [
      "before = 0.74639\n",
      "after = 0.74009\n"
     ]
    }
   ],
   "source": [
    "print(\"before = %.5f\" % (before))\n",
    "print (\"after = %.5f\" % (after) )\n"
   ]
  },
  {
   "cell_type": "code",
   "execution_count": null,
   "metadata": {
    "collapsed": true
   },
   "outputs": [],
   "source": []
  }
 ],
 "metadata": {
  "kernelspec": {
   "display_name": "Python 2",
   "language": "python",
   "name": "python2"
  },
  "language_info": {
   "codemirror_mode": {
    "name": "ipython",
    "version": 2
   },
   "file_extension": ".py",
   "mimetype": "text/x-python",
   "name": "python",
   "nbconvert_exporter": "python",
   "pygments_lexer": "ipython2",
   "version": "2.7.10"
  }
 },
 "nbformat": 4,
 "nbformat_minor": 0
}
