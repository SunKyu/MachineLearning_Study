{
 "cells": [
  {
   "cell_type": "markdown",
   "metadata": {},
   "source": [
    "# Which customers are happy customers?\n",
    "\n",
    "\n",
    "From frontline support teams to C-suites, customer satisfaction is a key measure of success. Unhappy customers don't stick around. What's more, unhappy customers rarely voice their dissatisfaction before leaving.\n",
    "\n",
    "Santander Bank is asking Kagglers to help them identify dissatisfied customers early in their relationship. Doing so would allow Santander to take proactive steps to improve a customer's happiness before it's too late.\n",
    "\n",
    "In this competition, you'll work with hundreds of anonymized features to predict if a customer is satisfied or dissatisfied with their banking experience.\n",
    "\n",
    "\n",
    "\n",
    "![img](https://kaggle2.blob.core.windows.net/competitions/kaggle/4986/media/santander_custsat_red.png)\n"
   ]
  },
  {
   "cell_type": "markdown",
   "metadata": {},
   "source": [
    "# Load Data"
   ]
  },
  {
   "cell_type": "code",
   "execution_count": 1,
   "metadata": {
    "collapsed": false,
    "scrolled": true
   },
   "outputs": [
    {
     "name": "stdout",
     "output_type": "stream",
     "text": [
      "371\n"
     ]
    }
   ],
   "source": [
    "import numpy as np\n",
    "import pandas as pd\n",
    "\n",
    "data = pd.read_csv(\"../data/train.csv\")\n",
    "test = pd.read_csv(\"../data/test.csv\")\n",
    "feature = set(data.columns)\n",
    "print len(feature)\n",
    "feat2 = []\n",
    "\n",
    "feature.discard(\"TARGET\")\n",
    "feature.discard(\"ID\")"
   ]
  },
  {
   "cell_type": "markdown",
   "metadata": {},
   "source": [
    "## exercise contents\n",
    "remove unique value Feature and if the values of test's feature is not unique, and don't discard"
   ]
  },
  {
   "cell_type": "code",
   "execution_count": 2,
   "metadata": {
    "collapsed": false
   },
   "outputs": [
    {
     "name": "stdout",
     "output_type": "stream",
     "text": [
      "335\n"
     ]
    }
   ],
   "source": [
    "def removeOneValueFeature(data) : \n",
    "    for i in data.columns:\n",
    "        data[i]\n",
    "        #print len(data[i].unique())\n",
    "        if (len(data[i].unique()) == 1 and len(test[i].unique()) == 1):\n",
    "            feature.discard(i)\n",
    "            \n",
    "        \n",
    "        \n",
    "        \n",
    "removeOneValueFeature(data)\n",
    "print len(feature)\n",
    "    "
   ]
  },
  {
   "cell_type": "code",
   "execution_count": 17,
   "metadata": {
    "collapsed": false
   },
   "outputs": [
    {
     "name": "stdout",
     "output_type": "stream",
     "text": [
      "335\n",
      "335\n",
      "[  0   1   2   7   9  11  14  15  16  17  22  23  24  25  29  31  32  33\n",
      "  39  40  41  43  46  50  52  54  59  62  65  66  69  70  71  74  77  78\n",
      "  80  81  82  83  84  86  87  88  89  91  96  98 100 101 102 106 109 110\n",
      " 111 112 115 118 123 124 125 126 128 129 130 131 132 134 136 137 140 143\n",
      " 145 147 149 151 152 153 154 155 156 162 164 165 166 170 171 172 173 174\n",
      " 175 177 178 180 181 182 184 185 189 190 192 193 195 197 198 200 204 205\n",
      " 208 209 210 211 212 213 214 217 218 220 225 226 230 231 232 233 234 235\n",
      " 236 237 238 240 241 242 244 245 252 254 257 258 259 261 263 265 270 271\n",
      " 272 273 275 283 284 285 286 289 290 291 292 293 295 298 301 303 305 306\n",
      " 309 310 311 313 314 317 318 319 323 324 326 327 328 329 330 333 334]\n",
      "179\n"
     ]
    }
   ],
   "source": [
    "from sklearn.svm import LinearSVC\n",
    "\n",
    "\n",
    "from sklearn.datasets import load_iris\n",
    "from sklearn.feature_selection import SelectFromModel\n",
    "\n",
    "feat = pd.Series(list(feature))\n",
    "\n",
    "fin_data = data\n",
    "\n",
    "def feature_selection(data):\n",
    "    lsvc = LinearSVC(C=0.05, penalty=\"l1\", dual=False).fit(data[feat], data[\"TARGET\"])\n",
    "    model = SelectFromModel(lsvc, prefit=True)\n",
    "    new_feature = model.transform(data[feat])\n",
    "    print len(lsvc.coef_[0])\n",
    "    feat2 = []\n",
    "    #print (lsvc.coef_[0])\n",
    "    print (np.flatnonzero(lsvc.coef_))\n",
    "    for i in np.flatnonzero(lsvc.coef_):\n",
    "        feat2.append(feat[i])\n",
    "            \n",
    "    print len(feat2)\n",
    "    \n",
    "    return feat2\n",
    "    \n",
    "print len(feature)\n",
    "feat2 = feature_selection(data)\n",
    "    "
   ]
  },
  {
   "cell_type": "code",
   "execution_count": 18,
   "metadata": {
    "collapsed": false
   },
   "outputs": [
    {
     "name": "stdout",
     "output_type": "stream",
     "text": [
      "179\n"
     ]
    }
   ],
   "source": [
    "print len(feat2)"
   ]
  },
  {
   "cell_type": "markdown",
   "metadata": {},
   "source": [
    "# Cross validatae by ROCAUC\n"
   ]
  },
  {
   "cell_type": "code",
   "execution_count": 14,
   "metadata": {
    "collapsed": false
   },
   "outputs": [],
   "source": [
    "from sklearn.cross_validation import KFold\n",
    "from sklearn import datasets\n",
    "from sklearn.metrics import roc_auc_score\n",
    "\n",
    "\n",
    "def rocauc_score(model, features, labels, num_folds = 5):\n",
    "    kfolds = KFold(len(features), num_folds)\n",
    "    \n",
    "    total_score = 0.0\n",
    "    \n",
    "    for train_index, test_index in kfolds:\n",
    "        train_features = features.iloc[train_index]\n",
    "        test_features = features.iloc[test_index]\n",
    "        train_labels = labels[train_index]\n",
    "        test_labels = labels[test_index]\n",
    "        \n",
    "        model.fit(train_features, train_labels)\n",
    "        prediction = model.predict_proba(test_features)\n",
    "        \n",
    "        nd = test_labels.get_values()\n",
    "        pos_prediction = [x[1] for x in prediction]\n",
    "        score = roc_auc_score(nd, pos_prediction)\n",
    "        total_score = total_score + score\n",
    "        \n",
    "    total_score = total_score / num_folds\n",
    "    \n",
    "    return total_score   "
   ]
  },
  {
   "cell_type": "markdown",
   "metadata": {},
   "source": [
    "# Prediction"
   ]
  },
  {
   "cell_type": "markdown",
   "metadata": {},
   "source": [
    "## Predict "
   ]
  },
  {
   "cell_type": "code",
   "execution_count": 19,
   "metadata": {
    "collapsed": false
   },
   "outputs": [],
   "source": [
    "#from sklearn.naive_bayes import GaussianNB, MultinomialNB, BernoulliNB\n",
    "from sklearn.ensemble import RandomForestClassifier\n",
    "from sklearn.linear_model import LogisticRegression\n",
    "from sklearn import svm\n",
    "import time\n",
    "\n",
    "feature_names = pd.Series(feat2)\n",
    "feature_names2 = data.columns[1:370]\n",
    "#배열로 넘김\n",
    "label_name = \"TARGET\"\n",
    "#컬럼 넘김\n",
    "befo_time = time.time()\n",
    "before = rocauc_score(RandomForestClassifier(n_estimators=200, n_jobs= -1), data[feature_names2], data[label_name])\n",
    "befo_time = time.time() - befo_time\n",
    "\n",
    "after_time = time.time()\n",
    "after = rocauc_score(RandomForestClassifier(n_estimators=200, n_jobs= -1), data[feature_names], data[label_name])\n",
    "after_time = time.time() - after_time\n",
    "\n",
    "#svmsvc_score = rocauc_score(svm.SVC(), data[feature_names], data[label_name])\n",
    "#Logistic_score = rocauc_score(LogisticRegression(n_jobs =-1), data[feature_names], data[label_name])"
   ]
  },
  {
   "cell_type": "markdown",
   "metadata": {},
   "source": [
    "## Print score"
   ]
  },
  {
   "cell_type": "code",
   "execution_count": 20,
   "metadata": {
    "collapsed": false
   },
   "outputs": [
    {
     "name": "stdout",
     "output_type": "stream",
     "text": [
      "before = 0.76151\n",
      "55.5917379856\n",
      "after = 0.76451\n",
      "41.8092710972\n"
     ]
    }
   ],
   "source": [
    "print(\"before = %.5f\" % (before))\n",
    "print befo_time\n",
    "print (\"after = %.5f\" % (after) )\n",
    "print after_time\n"
   ]
  },
  {
   "cell_type": "code",
   "execution_count": null,
   "metadata": {
    "collapsed": true
   },
   "outputs": [],
   "source": []
  }
 ],
 "metadata": {
  "kernelspec": {
   "display_name": "Python 2",
   "language": "python",
   "name": "python2"
  },
  "language_info": {
   "codemirror_mode": {
    "name": "ipython",
    "version": 2
   },
   "file_extension": ".py",
   "mimetype": "text/x-python",
   "name": "python",
   "nbconvert_exporter": "python",
   "pygments_lexer": "ipython2",
   "version": "2.7.10"
  }
 },
 "nbformat": 4,
 "nbformat_minor": 0
}
